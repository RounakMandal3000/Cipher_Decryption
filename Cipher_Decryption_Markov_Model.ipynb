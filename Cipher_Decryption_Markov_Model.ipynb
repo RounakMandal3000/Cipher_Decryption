{
 "cells": [
  {
   "cell_type": "markdown",
   "id": "ab2bdc89",
   "metadata": {},
   "source": [
    "# Import Libraries"
   ]
  },
  {
   "cell_type": "code",
   "execution_count": 1,
   "id": "ae7d931b",
   "metadata": {},
   "outputs": [],
   "source": [
    "import numpy as np\n",
    "import pandas as pd\n",
    "import matplotlib.pyplot as plt\n",
    "import random\n",
    "import requests\n",
    "import os\n",
    "import re\n",
    "import string"
   ]
  },
  {
   "cell_type": "markdown",
   "id": "05dd2106",
   "metadata": {},
   "source": [
    "# Create a function to find the true mapping "
   ]
  },
  {
   "cell_type": "code",
   "execution_count": 2,
   "id": "8887572f",
   "metadata": {},
   "outputs": [],
   "source": [
    "def find_mapping(seed = None):\n",
    "    normal_chars = [chr(i+97) for i in range(26)]\n",
    "    nomral_chars = np.array(normal_chars)\n",
    "    changed_chars = np.copy(normal_chars)\n",
    "    np.random.seed(seed = seed)\n",
    "    np.random.shuffle(changed_chars)\n",
    "    true_mapping = {}\n",
    "    for k, v in zip(normal_chars, changed_chars):\n",
    "        true_mapping[k] = v\n",
    "    return true_mapping"
   ]
  },
  {
   "cell_type": "code",
   "execution_count": 3,
   "id": "43637672",
   "metadata": {},
   "outputs": [],
   "source": [
    "true_mapping = find_mapping()"
   ]
  },
  {
   "cell_type": "code",
   "execution_count": 4,
   "id": "6859698f",
   "metadata": {},
   "outputs": [
    {
     "data": {
      "text/plain": [
       "{'a': 'g',\n",
       " 'b': 'j',\n",
       " 'c': 'p',\n",
       " 'd': 'f',\n",
       " 'e': 'i',\n",
       " 'f': 'm',\n",
       " 'g': 's',\n",
       " 'h': 'e',\n",
       " 'i': 'r',\n",
       " 'j': 'v',\n",
       " 'k': 'b',\n",
       " 'l': 'y',\n",
       " 'm': 'q',\n",
       " 'n': 'n',\n",
       " 'o': 'w',\n",
       " 'p': 'u',\n",
       " 'q': 'l',\n",
       " 'r': 'k',\n",
       " 's': 'z',\n",
       " 't': 'c',\n",
       " 'u': 'a',\n",
       " 'v': 'h',\n",
       " 'w': 'd',\n",
       " 'x': 'o',\n",
       " 'y': 'x',\n",
       " 'z': 't'}"
      ]
     },
     "execution_count": 4,
     "metadata": {},
     "output_type": "execute_result"
    }
   ],
   "source": [
    "true_mapping"
   ]
  },
  {
   "cell_type": "code",
   "execution_count": 5,
   "id": "e10c5c31",
   "metadata": {},
   "outputs": [
    {
     "data": {
      "text/plain": [
       "{'a': 'g',\n",
       " 'b': 'j',\n",
       " 'c': 'p',\n",
       " 'd': 'f',\n",
       " 'e': 'i',\n",
       " 'f': 'm',\n",
       " 'g': 's',\n",
       " 'h': 'e',\n",
       " 'i': 'r',\n",
       " 'j': 'v',\n",
       " 'k': 'b',\n",
       " 'l': 'y',\n",
       " 'm': 'q',\n",
       " 'n': 'n',\n",
       " 'o': 'w',\n",
       " 'p': 'u',\n",
       " 'q': 'l',\n",
       " 'r': 'k',\n",
       " 's': 'z',\n",
       " 't': 'c',\n",
       " 'u': 'a',\n",
       " 'v': 'h',\n",
       " 'w': 'd',\n",
       " 'x': 'o',\n",
       " 'y': 'x',\n",
       " 'z': 't'}"
      ]
     },
     "execution_count": 5,
     "metadata": {},
     "output_type": "execute_result"
    }
   ],
   "source": [
    "true_mapping"
   ]
  },
  {
   "cell_type": "markdown",
   "id": "f915f832",
   "metadata": {},
   "source": [
    "# Creating transition matrix and the first probability "
   ]
  },
  {
   "cell_type": "code",
   "execution_count": 6,
   "id": "0c63a1f9",
   "metadata": {},
   "outputs": [],
   "source": [
    "M = np.ones((26,26))     # add-one smoothing\n",
    "pi = np.zeros(26,)\n",
    "A = np.ones((26,26,26))"
   ]
  },
  {
   "cell_type": "code",
   "execution_count": 7,
   "id": "e7d1ddc5",
   "metadata": {},
   "outputs": [],
   "source": [
    "def transition_matrix_update(ch1, ch2):\n",
    "    i = ord(ch1) - 97\n",
    "    j = ord(ch2) - 97\n",
    "    M[i,j] += 1"
   ]
  },
  {
   "cell_type": "code",
   "execution_count": 8,
   "id": "d94798fb",
   "metadata": {},
   "outputs": [],
   "source": [
    "def pi_update(ch):\n",
    "    i = ord(ch) - 97\n",
    "    pi[i] += 1"
   ]
  },
  {
   "cell_type": "code",
   "execution_count": 9,
   "id": "005e8897",
   "metadata": {},
   "outputs": [],
   "source": [
    "def trigram_matrix_update(ch1, ch2, ch3):\n",
    "    i = ord(ch1) - 97\n",
    "    j = ord(ch2) - 97\n",
    "    k = ord(ch3) - 97\n",
    "    A[i,j,k] += 1"
   ]
  },
  {
   "cell_type": "markdown",
   "id": "11595346",
   "metadata": {},
   "source": [
    "# Get log probability of words happening, and use that for sentences"
   ]
  },
  {
   "cell_type": "code",
   "execution_count": 10,
   "id": "0525a18b",
   "metadata": {},
   "outputs": [],
   "source": [
    "def get_word_prob(word, n=2):\n",
    "    if(n==3):\n",
    "        logp = np.log(pi[ord(word[0])-97])\n",
    "        if(len(word)>1):\n",
    "            logp += np.log(M[ord(word[0])-97, ord(word[1])-97])\n",
    "            for i in range(2, len(word)):\n",
    "                i_1 = ord(word[i-2]) - 97\n",
    "                j_1 = ord(word[i-1]) - 97\n",
    "                k_1 = ord(word[i]) - 97\n",
    "                logp += np.log(A[i_1, j_1, k_1])\n",
    "        return logp\n",
    "    else:\n",
    "        logp = np.log(pi[ord(word[0])-97])\n",
    "        for i in range(1, len(word)):\n",
    "            i_1 = ord(word[i-1]) - 97\n",
    "            j_1 = ord(word[i]) - 97\n",
    "            logp += np.log(M[i_1, j_1])\n",
    "        return logp"
   ]
  },
  {
   "cell_type": "code",
   "execution_count": 11,
   "id": "2c144e3d",
   "metadata": {},
   "outputs": [],
   "source": [
    "def get_sentence_prob(sentence,  n=2):\n",
    "    if(type(sentence) == str):      # we don't split if it is already passed as a list\n",
    "        words = sentence.split()\n",
    "    logp = 0\n",
    "    for word in words:\n",
    "        logp += get_word_prob(word, n)\n",
    "    return logp"
   ]
  },
  {
   "cell_type": "markdown",
   "id": "45fbd259",
   "metadata": {},
   "source": [
    "# Download the text"
   ]
  },
  {
   "cell_type": "code",
   "execution_count": 12,
   "id": "4fa6c84b",
   "metadata": {},
   "outputs": [],
   "source": [
    "if not os.path.exists('moby_dick_new.txt'):\n",
    "    print(\"Downloading moby dick...\")\n",
    "    r = requests.get('https://www.gutenberg.org/files/2701/2701-0.txt')   # change link\n",
    "    with open('moby_dick_new.txt', 'w', encoding=\"utf-8\") as f:\n",
    "        f.write(r.content.decode())"
   ]
  },
  {
   "cell_type": "markdown",
   "id": "f230c786",
   "metadata": {},
   "source": [
    "# Change all the non characters to space and find the pi and M"
   ]
  },
  {
   "cell_type": "code",
   "execution_count": 15,
   "id": "cf3e4a85",
   "metadata": {},
   "outputs": [],
   "source": [
    "#Bigram\n",
    "import re\n",
    "regex = re.compile('[^a-zA-Z]')\n",
    "k=0\n",
    "for line in open('moby_dick.txt', encoding=\"utf8\"):\n",
    "    line = line.rstrip()\n",
    "    \n",
    "    if line:\n",
    "        line = regex.sub(' ', line) \n",
    "        tokens = line.lower().split()\n",
    "        \n",
    "        for token in tokens:\n",
    "            ch0 = token[0]\n",
    "            pi_update(ch0)\n",
    "            k+=1\n",
    "            for ch1 in token[1:] :\n",
    "                transition_matrix_update(ch0, ch1)\n",
    "                ch0 = ch1\n",
    "                            \n",
    "\n",
    "pi /= pi.sum()\n",
    "M /= M.sum(axis=1, keepdims = True)"
   ]
  },
  {
   "cell_type": "code",
   "execution_count": 14,
   "id": "71e22089",
   "metadata": {},
   "outputs": [],
   "source": [
    "#trigram\n",
    "import re\n",
    "regex = re.compile('[^a-zA-Z]')\n",
    "k=0\n",
    "for line in open('moby_dick.txt', encoding=\"utf8\"):\n",
    "    line = line.rstrip()\n",
    "    \n",
    "    if line:\n",
    "        line = regex.sub(' ', line) \n",
    "        tokens = line.lower().split()\n",
    "        \n",
    "        for token in tokens:\n",
    "            ch0 = token[0]\n",
    "            pi_update(ch0)\n",
    "            k+=1\n",
    "            if(len(token)>1):\n",
    "                ch1 = token[1]\n",
    "                transition_matrix_update(ch0, ch1)\n",
    "                for i in range(2,) :\n",
    "                    trigram_matrix_update(token[i-2], token[i-1], token[i])\n",
    "                    \n",
    "pi /= pi.sum()\n",
    "M /= M.sum(axis=1, keepdims=True)\n",
    "A /= A.sum(axis=2, keepdims=True)"
   ]
  },
  {
   "cell_type": "code",
   "execution_count": 487,
   "id": "6fbab697",
   "metadata": {},
   "outputs": [
    {
     "name": "stdout",
     "output_type": "stream",
     "text": [
      "214702\n"
     ]
    }
   ],
   "source": [
    "print(k)"
   ]
  },
  {
   "cell_type": "code",
   "execution_count": 16,
   "id": "302eaa54",
   "metadata": {},
   "outputs": [],
   "source": [
    "msg = \"By art is created that great Leviathan, called a Commonwealth or State—(in Latin, Civitas) which is but an artificial man.” —Opening sentence of Hobbes’s Leviathan.Silly Mansoul swallowed it without chewing, as if it had been a sprat in the mouth of a whale.” —Pilgrim’s Progress.That sea beastLeviathan, which God of all his worksCreated hugest that swim the ocean stream.” —Paradise Lost.There Leviathan,Hugest of living creatures, in the deepStretched like a promontory sleeps or swims,And seems a moving land; and at his gillsDraws in, and at his breath spouts out a sea.” —Ibid.\""
   ]
  },
  {
   "cell_type": "markdown",
   "id": "386cb90a",
   "metadata": {},
   "source": [
    "# Encoding the message using the true mapping"
   ]
  },
  {
   "cell_type": "code",
   "execution_count": 17,
   "id": "30d47374",
   "metadata": {},
   "outputs": [],
   "source": [
    "def encode_message(msg):\n",
    "    msg = msg.lower()\n",
    "    msg = regex.sub(' ', msg)\n",
    "    coded_msg = ''\n",
    "    for ch in msg:\n",
    "        if(ch in true_mapping):   # could be space\n",
    "            coded_msg += true_mapping[ch]\n",
    "        else:\n",
    "            coded_msg += ch\n",
    "    return coded_msg"
   ]
  },
  {
   "cell_type": "markdown",
   "id": "c294f34d",
   "metadata": {},
   "source": [
    "# Decoding the message using the word map"
   ]
  },
  {
   "cell_type": "code",
   "execution_count": 18,
   "id": "62961c00",
   "metadata": {},
   "outputs": [],
   "source": [
    "def decode_message(msg, word_map):\n",
    "    msg = msg.lower()\n",
    "    msg = regex.sub(' ', msg)\n",
    "    decoded_msg = ''\n",
    "    for ch in msg:\n",
    "        if(ch in word_map):   # could be space\n",
    "            decoded_msg += word_map[ch]\n",
    "        else:\n",
    "            decoded_msg += ch\n",
    "    return decoded_msg"
   ]
  },
  {
   "cell_type": "code",
   "execution_count": 19,
   "id": "9d43aa07",
   "metadata": {},
   "outputs": [],
   "source": [
    "encoded_message = encode_message(msg)"
   ]
  },
  {
   "cell_type": "code",
   "execution_count": 20,
   "id": "c69c1ce6",
   "metadata": {
    "scrolled": true
   },
   "outputs": [
    {
     "data": {
      "text/plain": [
       "'by art is created that great leviathan  called a commonwealth or state  in latin  civitas  which is but an artificial man    opening sentence of hobbes s leviathan silly mansoul swallowed it without chewing  as if it had been a sprat in the mouth of a whale    pilgrim s progress that sea beastleviathan  which god of all his workscreated hugest that swim the ocean stream    paradise lost there leviathan hugest of living creatures  in the deepstretched like a promontory sleeps or swims and seems a moving land  and at his gillsdraws in  and at his breath spouts out a sea    ibid '"
      ]
     },
     "execution_count": 20,
     "metadata": {},
     "output_type": "execute_result"
    }
   ],
   "source": [
    "dict2 = {}\n",
    " \n",
    "for k, v in true_mapping.items():\n",
    "    dict2[v]=k\n",
    "    \n",
    "decode_message(encoded_message, dict2)"
   ]
  },
  {
   "cell_type": "markdown",
   "id": "9792bae8",
   "metadata": {},
   "source": [
    "# Genetic Algorithm"
   ]
  },
  {
   "cell_type": "markdown",
   "id": "7b12be95",
   "metadata": {},
   "source": [
    "## Create random 20 dna strings "
   ]
  },
  {
   "cell_type": "code",
   "execution_count": 21,
   "id": "5340dc97",
   "metadata": {},
   "outputs": [],
   "source": [
    "dna_pool = []\n",
    "for _ in range(20):\n",
    "    dna = list(string.ascii_lowercase)\n",
    "    random.shuffle(dna)\n",
    "    dna_pool.append(dna)"
   ]
  },
  {
   "cell_type": "markdown",
   "id": "60d9e9a0",
   "metadata": {},
   "source": [
    "## Create new child dna strings by changing one element at a time "
   ]
  },
  {
   "cell_type": "code",
   "execution_count": 22,
   "id": "84858eda",
   "metadata": {},
   "outputs": [],
   "source": [
    "def evolve_offspring(dna_pool, n_children):\n",
    "    offspring = []\n",
    "    \n",
    "    for dna in dna_pool:\n",
    "        for _ in range(n_children):\n",
    "            copy = dna.copy()\n",
    "            j = np.random.randint(len(copy))\n",
    "            k = np.random.randint(len(copy))\n",
    "            \n",
    "            tmp = copy[j]\n",
    "            copy[j] = copy[k]\n",
    "            copy[k] = tmp\n",
    "            \n",
    "            offspring.append(copy)\n",
    "    return offspring + dna_pool"
   ]
  },
  {
   "cell_type": "markdown",
   "id": "6a2b4773",
   "metadata": {},
   "source": [
    "## Evolve the algorithm  "
   ]
  },
  {
   "cell_type": "code",
   "execution_count": 23,
   "id": "5be75ec5",
   "metadata": {
    "scrolled": true
   },
   "outputs": [
    {
     "name": "stdout",
     "output_type": "stream",
     "text": [
      "iter: 0  score: -4225.065435190222 best so far: -3200.756549215328\n",
      "iter: 200  score: -1292.5897667548675 best so far: -1119.8125267396347\n",
      "iter: 400  score: -1250.6127798264922 best so far: -1094.3385567207897\n",
      "iter: 600  score: -1302.8831617904314 best so far: -1094.3385567207897\n",
      "iter: 800  score: -1232.575941482094 best so far: -1094.3385567207897\n"
     ]
    }
   ],
   "source": [
    "num_iters = 1000\n",
    "scores = np.zeros(num_iters)\n",
    "best_dna = None\n",
    "best_map = None\n",
    "best_score = float('-inf')\n",
    "\n",
    "for i in range(num_iters):\n",
    "    if i > 0 :\n",
    "        dna_pool = evolve_offspring(dna_pool, 2)\n",
    "    dna2score = {}\n",
    "    for dna in dna_pool:\n",
    "        current_map = {}\n",
    "        for k, v in zip(list(string.ascii_lowercase), dna):\n",
    "            current_map[v] = k        # very important line\n",
    "            \n",
    "        decoded_message = decode_message(encoded_message, current_map)\n",
    "        score = get_sentence_prob(decoded_message, 2)\n",
    "        \n",
    "        dna2score[''.join(dna)] = score\n",
    "        \n",
    "        if(score > best_score):\n",
    "            best_dna = dna\n",
    "            best_map = current_map\n",
    "            best_score = score\n",
    "        \n",
    "    scores[i] = np.mean(list(dna2score.values()))\n",
    "        \n",
    "    sorted_dna = sorted(dna2score.items(), key=lambda x:x[1], reverse = True)\n",
    "    dna_pool = [list(k) for k, v in sorted_dna[:5]]\n",
    "        \n",
    "    if(i%200==0):\n",
    "            print(\"iter:\", i, \" score:\", scores[i], \"best so far:\", best_score)"
   ]
  },
  {
   "cell_type": "code",
   "execution_count": 24,
   "id": "db6a20f5",
   "metadata": {},
   "outputs": [
    {
     "data": {
      "text/plain": [
       "'By art is created that great Leviathan, called a Commonwealth or State—(in Latin, Civitas) which is but an artificial man.” —Opening sentence of Hobbes’s Leviathan.Silly Mansoul swallowed it without chewing, as if it had been a sprat in the mouth of a whale.” —Pilgrim’s Progress.That sea beastLeviathan, which God of all his worksCreated hugest that swim the ocean stream.” —Paradise Lost.There Leviathan,Hugest of living creatures, in the deepStretched like a promontory sleeps or swims,And seems a moving land; and at his gillsDraws in, and at his breath spouts out a sea.” —Ibid.'"
      ]
     },
     "execution_count": 24,
     "metadata": {},
     "output_type": "execute_result"
    }
   ],
   "source": [
    "msg"
   ]
  },
  {
   "cell_type": "code",
   "execution_count": 25,
   "id": "c1e432ab",
   "metadata": {},
   "outputs": [
    {
     "name": "stdout",
     "output_type": "stream",
     "text": [
      "by art is created that great leviathan  called a commonwealth or state  in latin  civitas  which is but an artificial man    opening sentence of hobbes s leviathan silly mansoul swallowed it without chewing  as if it had been a sprat in the mouth of a whale    pilgrim s progress that sea beastleviathan  which god of all his workscreated hugest that swim the ocean stream    paradise lost there leviathan hugest of living creatures  in the deepstretched like a promontory sleeps or swims and seems a moving land  and at his gillsdraws in  and at his breath spouts out a sea    ibid \n"
     ]
    }
   ],
   "source": [
    "decoded_message = decode_message(encoded_message, best_map)\n",
    "\n",
    "print(decoded_message)"
   ]
  },
  {
   "cell_type": "code",
   "execution_count": 26,
   "id": "49b73bdb",
   "metadata": {},
   "outputs": [
    {
     "name": "stdout",
     "output_type": "stream",
     "text": [
      "true: j, pred: q\n",
      "true: q, pred: x\n",
      "true: x, pred: z\n",
      "true: z, pred: j\n"
     ]
    }
   ],
   "source": [
    "for true, v in true_mapping.items():\n",
    "    pred = best_map[v]\n",
    "    if(true!=pred):\n",
    "        print(\"true: %s, pred: %s\" % (true, pred))"
   ]
  },
  {
   "cell_type": "code",
   "execution_count": 27,
   "id": "3358218a",
   "metadata": {},
   "outputs": [
    {
     "data": {
      "text/plain": [
       "[<matplotlib.lines.Line2D at 0x218f4d205e0>]"
      ]
     },
     "execution_count": 27,
     "metadata": {},
     "output_type": "execute_result"
    },
    {
     "data": {
      "image/png": "[encoded data removed]",
      "text/plain": [
       "<Figure size 640x480 with 1 Axes>"
      ]
     },
     "metadata": {},
     "output_type": "display_data"
    }
   ],
   "source": [
    "plt.plot(scores)"
   ]
  },
  {
   "cell_type": "code",
   "execution_count": null,
   "id": "833dd0cf",
   "metadata": {},
   "outputs": [],
   "source": []
  }
 ],
 "metadata": {
  "kernelspec": {
   "display_name": "Python 3 (ipykernel)",
   "language": "python",
   "name": "python3"
  },
  "language_info": {
   "codemirror_mode": {
    "name": "ipython",
    "version": 3
   },
   "file_extension": ".py",
   "mimetype": "text/x-python",
   "name": "python",
   "nbconvert_exporter": "python",
   "pygments_lexer": "ipython3",
   "version": "3.9.13"
  }
 },
 "nbformat": 4,
 "nbformat_minor": 5
}
